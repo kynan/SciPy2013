{
 "metadata": {
  "name": "scipy2013"
 },
 "nbformat": 3,
 "nbformat_minor": 0,
 "worksheets": [
  {
   "cells": [
    {
     "cell_type": "markdown",
     "metadata": {
      "slideshow": {
       "slide_type": "slide"
      }
     },
     "source": [
      "# PyOP2: a Framework for Performance-Portable Unstructured Mesh-based Simulations and its Application to Finite-Element Computations\n",
      "\n",
      "### Florian Rathgeber<sup>1</sup>, Graham Markall<sup>1</sup>, Lawrence Mitchell<sup>3</sup>, Nicolas Loriant<sup>1</sup>, David Ham<sup>1,2</sup>, Paul Kelly<sup>1</sup>\n",
      "\n",
      "#### <sup>1</sup> Department of Computing, Imperial College London\n",
      "#### <sup>2</sup> Grantham Institute for Climate Change, Imperial College London\n",
      "#### <sup>3</sup> EPCC, University of Edinburgh"
     ]
    }
   ],
   "metadata": {}
  }
 ]
}